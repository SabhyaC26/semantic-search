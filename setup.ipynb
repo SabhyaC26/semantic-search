{
 "cells": [
  {
   "cell_type": "code",
   "execution_count": 3,
   "id": "dafe2051-081b-4b99-be3e-7128cab07d99",
   "metadata": {},
   "outputs": [],
   "source": [
    "import pinecone\n",
    "import os"
   ]
  },
  {
   "cell_type": "code",
   "execution_count": null,
   "id": "3878f574-3d26-4762-9433-e88f0db387a5",
   "metadata": {},
   "outputs": [],
   "source": [
    "api_key = os.environ[\"PINECONE_API_KEY\"]\n",
    "pinecone.init(api_key=api_key, environment=\"us-west1-gcp\")"
   ]
  },
  {
   "cell_type": "code",
   "execution_count": null,
   "id": "d07f23de-719e-4c28-90fa-8a2dccb1c695",
   "metadata": {},
   "outputs": [],
   "source": [
    "pinecone.create_index(\"events\", dimension=1536, metric=\"euclidean\", pod_type=\"p1\")\n",
    "pinecone_index = pinecone.Index(\"events\")"
   ]
  },
  {
   "cell_type": "code",
   "execution_count": null,
   "id": "452e458a-dc61-4341-981c-7e00c39cbbc3",
   "metadata": {},
   "outputs": [],
   "source": []
  },
  {
   "cell_type": "code",
   "execution_count": null,
   "id": "a52f95b7-3fb1-4ba2-bbd8-28a57bb40ca6",
   "metadata": {},
   "outputs": [],
   "source": []
  }
 ],
 "metadata": {
  "kernelspec": {
   "display_name": "Python 3 (ipykernel)",
   "language": "python",
   "name": "python3"
  },
  "language_info": {
   "codemirror_mode": {
    "name": "ipython",
    "version": 3
   },
   "file_extension": ".py",
   "mimetype": "text/x-python",
   "name": "python",
   "nbconvert_exporter": "python",
   "pygments_lexer": "ipython3",
   "version": "3.9.6"
  }
 },
 "nbformat": 4,
 "nbformat_minor": 5
}
