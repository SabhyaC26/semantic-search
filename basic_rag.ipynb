{
 "cells": [
  {
   "cell_type": "code",
   "execution_count": 11,
   "metadata": {},
   "outputs": [],
   "source": [
    "from pathlib import Path\n",
    "from llama_index import download_loader, Document\n",
    "from llama_index.text_splitter import SentenceSplitter\n",
    "from llama_index.schema import TextNode\n",
    "import csv"
   ]
  },
  {
   "cell_type": "code",
   "execution_count": 7,
   "metadata": {},
   "outputs": [],
   "source": [
    "def read_csv(file_path: str) -> None:\n",
    "    events_list = []\n",
    "    with open(file_path, mode='r') as csv_file:\n",
    "        csv_reader = csv.DictReader(csv_file)\n",
    "        for row in csv_reader:\n",
    "            events_list.append(row)\n",
    "    return events_list"
   ]
  },
  {
   "cell_type": "code",
   "execution_count": 4,
   "metadata": {},
   "outputs": [],
   "source": [
    "text_splitter = SentenceSplitter(\n",
    "    chunk_size=1024,\n",
    "    # separator=\" \",\n",
    ")"
   ]
  },
  {
   "cell_type": "code",
   "execution_count": 22,
   "metadata": {},
   "outputs": [],
   "source": [
    "events = read_csv(\"./events.csv\")\n",
    "documents = [Document(text=str(t), metadata={\"event_id\": t[\"Id\"], \"event_name\":  t[\"Name\"] }) for t in events]"
   ]
  },
  {
   "cell_type": "code",
   "execution_count": 9,
   "metadata": {},
   "outputs": [],
   "source": [
    "text_chunks = []\n",
    "# maintain relationship with source doc index, to help inject doc metadata in (3)\n",
    "doc_idxs = []\n",
    "for doc_idx, doc in enumerate(documents):\n",
    "    cur_text_chunks = text_splitter.split_text(doc.text)\n",
    "    text_chunks.extend(cur_text_chunks)\n",
    "    doc_idxs.extend([doc_idx] * len(cur_text_chunks))"
   ]
  },
  {
   "cell_type": "code",
   "execution_count": 12,
   "metadata": {},
   "outputs": [],
   "source": [
    "nodes = []\n",
    "for idx, text_chunk in enumerate(text_chunks):\n",
    "    node = TextNode(\n",
    "        text=text_chunk,\n",
    "    )\n",
    "    src_doc = documents[doc_idxs[idx]]\n",
    "    node.metadata = src_doc.metadata\n",
    "    nodes.append(node)"
   ]
  },
  {
   "cell_type": "code",
   "execution_count": 13,
   "metadata": {},
   "outputs": [
    {
     "name": "stdout",
     "output_type": "stream",
     "text": [
      "event_id: 1\n",
      "event_name: The Phantom of the Opera\n",
      "\n",
      "{'Id': '1', 'Name': 'The Phantom of the Opera', 'One Line Description': 'Experience the iconic musical', 'Location': 'Majestic Theatre NYC', 'Time': 'September 5 2023 8:00 PM', 'Avg. Rating': '4.6', 'Ticket Price': '$75'}\n"
     ]
    }
   ],
   "source": [
    "print(nodes[0].get_content(metadata_mode=\"all\"))"
   ]
  },
  {
   "cell_type": "code",
   "execution_count": 14,
   "metadata": {},
   "outputs": [],
   "source": [
    "import chromadb\n",
    "chroma_client = chromadb.Client()"
   ]
  },
  {
   "cell_type": "code",
   "execution_count": 15,
   "metadata": {},
   "outputs": [],
   "source": [
    "collection = chroma_client.create_collection(name=\"events\")"
   ]
  },
  {
   "cell_type": "code",
   "execution_count": 39,
   "metadata": {},
   "outputs": [],
   "source": [
    "ids = [doc.id_ for doc in documents]\n",
    "metadata = [doc.metadata for doc in documents]\n",
    "text = [doc.text for doc in documents]\n"
   ]
  },
  {
   "cell_type": "code",
   "execution_count": 40,
   "metadata": {},
   "outputs": [
    {
     "name": "stderr",
     "output_type": "stream",
     "text": [
      "/Users/sabhyachhabria/.cache/chroma/onnx_models/all-MiniLM-L6-v2/onnx.tar.gz: 100%|██████████| 79.3M/79.3M [00:09<00:00, 8.88MiB/s]\n"
     ]
    }
   ],
   "source": [
    "collection.add(\n",
    "    documents=text,\n",
    "    metadatas=metadata,\n",
    "    ids=ids\n",
    ")"
   ]
  },
  {
   "cell_type": "code",
   "execution_count": 52,
   "metadata": {},
   "outputs": [],
   "source": [
    "results = collection.query(\n",
    "    query_texts=[\"broadway in nyc after Jan 2024\"],\n",
    "    n_results=2\n",
    ")"
   ]
  },
  {
   "cell_type": "code",
   "execution_count": 53,
   "metadata": {},
   "outputs": [
    {
     "data": {
      "text/plain": [
       "{'ids': [['b2c81f66-697a-4288-a552-0501e803e1f9',\n",
       "   '962fac33-0ec7-4794-bddb-b10d359d80ff']],\n",
       " 'distances': [[1.1672581434249878, 1.1732980012893677]],\n",
       " 'metadatas': [[{'event_id': '76', 'event_name': 'Hamilton'},\n",
       "   {'event_id': '35', 'event_name': 'The Color Purple'}]],\n",
       " 'embeddings': None,\n",
       " 'documents': [['{\\'Id\\': \\'76\\', \\'Name\\': \\'Hamilton\\', \\'One Line Description\\': \"Don\\'t miss the cultural phenomenon\", \\'Location\\': \\'Richard Rodgers Theatre NYC\\', \\'Time\\': \\'March 25 2025 7:00 PM\\', \\'Avg. Rating\\': \\'4.9\\', \\'Ticket Price\\': \\'$90\\'}',\n",
       "   \"{'Id': '35', 'Name': 'The Color Purple', 'One Line Description': 'Moving musical experience', 'Location': 'Bernard B. Jacobs Theatre NYC', 'Time': 'October 15 2023 2:00 PM', 'Avg. Rating': '4.8', 'Ticket Price': '$85'}\"]]}"
      ]
     },
     "execution_count": 53,
     "metadata": {},
     "output_type": "execute_result"
    }
   ],
   "source": [
    "results"
   ]
  },
  {
   "cell_type": "code",
   "execution_count": null,
   "metadata": {},
   "outputs": [],
   "source": []
  }
 ],
 "metadata": {
  "kernelspec": {
   "display_name": "Python 3",
   "language": "python",
   "name": "python3"
  },
  "language_info": {
   "codemirror_mode": {
    "name": "ipython",
    "version": 3
   },
   "file_extension": ".py",
   "mimetype": "text/x-python",
   "name": "python",
   "nbconvert_exporter": "python",
   "pygments_lexer": "ipython3",
   "version": "3.9.6"
  },
  "orig_nbformat": 4
 },
 "nbformat": 4,
 "nbformat_minor": 2
}
